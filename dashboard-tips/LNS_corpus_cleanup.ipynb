{
 "cells": [
  {
   "cell_type": "markdown",
   "metadata": {},
   "source": [
    "#  LNS openalex data cleanup\n",
    "This notebook cleans up metadata retrieved from OpenAlex for the LNS core corpus of papers. \n",
    "- expand nested columns into their own columns\n",
    "    - best_oa_location\n",
    "    - citation_normalized\n",
    "- save over Excel sheet called "
   ]
  },
  {
   "cell_type": "code",
   "execution_count": 3,
   "metadata": {},
   "outputs": [
    {
     "name": "stdout",
     "output_type": "stream",
     "text": [
      "\u001b[96mall done\n",
      "\u001b[0m\n"
     ]
    }
   ],
   "source": [
    "import pandas as pd\n",
    "import time\n",
    "import requests\n",
    "from urllib.parse import quote\n",
    "from colorama import Fore,Back,Style\n",
    "\n",
    "print(Fore.LIGHTCYAN_EX + \"all done\")\n",
    "print(Style.RESET_ALL)\n",
    "\n"
   ]
  },
  {
   "cell_type": "code",
   "execution_count": null,
   "metadata": {},
   "outputs": [],
   "source": [
    "# file to be opened with relative path\n",
    "file = \"www/LNS_openalex_full_metadata.xlsx\""
   ]
  },
  {
   "cell_type": "code",
   "execution_count": null,
   "metadata": {},
   "outputs": [],
   "source": [
    "#extract primary location column in a 'data-to-columns' approach\n",
    "primary_loc_dict = openalex_results_df['primary_location'].to_dict()\n",
    "primary_loc_df = pd.DataFrame(primary_loc_dict)\n",
    "\n",
    "#transpose\n",
    "primary_loc_df = primary_loc_df.T\n",
    "\n",
    "#merge\n",
    "openalex_results_df = pd.concat([openalex_results_df, primary_loc_df], axis=1)\n",
    "\n",
    "# do the same with open_access\n",
    "#oa_dict = openalex_results_df['open_access'].to_dict()\n"
   ]
  }
 ],
 "metadata": {
  "language_info": {
   "name": "python"
  }
 },
 "nbformat": 4,
 "nbformat_minor": 2
}
