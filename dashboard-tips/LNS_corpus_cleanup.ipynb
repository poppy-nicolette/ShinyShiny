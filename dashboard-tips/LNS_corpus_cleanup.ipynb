{
 "cells": [
  {
   "cell_type": "markdown",
   "metadata": {},
   "source": [
    "#  LNS openalex data cleanup\n",
    "This notebook cleans up metadata retrieved from OpenAlex for the LNS core corpus of papers. \n",
    "- expand nested columns into their own columns\n",
    "    - best_oa_location\n",
    "    - citation_normalized\n",
    "- save over Excel sheet called "
   ]
  },
  {
   "cell_type": "code",
   "execution_count": 3,
   "metadata": {},
   "outputs": [
    {
     "name": "stdout",
     "output_type": "stream",
     "text": [
      "\u001b[96mall done\n",
      "\u001b[0m\n"
     ]
    }
   ],
   "source": [
    "import pandas as pd\n",
    "import time\n",
    "import requests\n",
    "from urllib.parse import quote\n",
    "from colorama import Fore,Back,Style\n",
    "\n",
    "print(Fore.LIGHTCYAN_EX + \"all done\")\n",
    "print(Style.RESET_ALL)\n",
    "\n"
   ]
  },
  {
   "cell_type": "code",
   "execution_count": 8,
   "metadata": {},
   "outputs": [
    {
     "data": {
      "text/plain": [
       "104"
      ]
     },
     "execution_count": null,
     "metadata": {},
     "output_type": "execute_result"
    }
   ],
   "source": [
    "# file to be opened with relative path\n",
    "file = \"www/LNS_openalex_full_metadata.xlsx\"\n",
    "data_df=pd.read_excel(\"www/LNS_openalex_full_metadata.xlsx\", sheet_name=\"Sheet1\")\n",
    "len(data)"
   ]
  },
  {
   "cell_type": "code",
   "execution_count": 35,
   "metadata": {},
   "outputs": [],
   "source": [
    "# reconstruct abstract\n",
    "def reconstruct_abstract(abstract:dict)-> str:\n",
    "\n",
    "    \"\"\"\n",
    "    This takes a dictionary of the inverted abstract\n",
    "    and returns a string of the reconstructed abstract.\n",
    "\n",
    "    Args:\n",
    "    abstract should be in the form of a dictionary.\n",
    "    Example:\n",
    "    abstract_inverted_index = {\n",
    "    'Despite':[0],\n",
    "    'growing':[1],\n",
    "   'interest': [2],\n",
    "    'in': [3],\n",
    "    'Open': [4],\n",
    "    'Access': [5],\n",
    "    '...': [6]\n",
    "\n",
    "    Returns:\n",
    "    String\n",
    "    \"\"\"\n",
    "\n",
    "    # Create a list of (word, index) pairs\n",
    "    word_index = []\n",
    "    for k, v in abstract.items():\n",
    "        for index in v:\n",
    "            word_index.append([k, index])\n",
    "\n",
    "    #print(word_index) # uncomment to see the sublists\n",
    "    # Sort the list based on index\n",
    "    word_index = sorted(word_index, key=lambda x: x[1]) # this sorts based on the second item in the sublist\n",
    "\n",
    "    # Join the words with a space\n",
    "    abstract = ' '.join([word for word, index in word_index])\n",
    "    return abstract\n",
    "\n",
    "\n",
    "def main(abstract: dict) -> str:\n",
    "    \"\"\"\n",
    "    Main function to call the reconstruct_abstract function.\n",
    "\n",
    "    Args:\n",
    "        This takes a dictionary of the inverted abstract\n",
    "        and returns a string of the reconstructed abstract.\n",
    "\n",
    "        Example:\n",
    "        abstract_inverted_index = {\n",
    "        'Despite':[0],\n",
    "        'growing':[1],\n",
    "       'interest': [2],\n",
    "        'in': [3],\n",
    "        'Open': [4],\n",
    "        'Access': [5],\n",
    "        '...': [6]\n",
    "\n",
    "        Returns:\n",
    "        String\n",
    "    \"\"\"\n",
    "    return reconstruct_abstract(abstract)\n"
   ]
  },
  {
   "cell_type": "code",
   "execution_count": 34,
   "metadata": {},
   "outputs": [
    {
     "data": {
      "text/plain": [
       "True"
      ]
     },
     "execution_count": null,
     "metadata": {},
     "output_type": "execute_result"
    }
   ],
   "source": [
    "isinstance(sus_dev_goals_dict, dict)\n",
    "test_1 = sus_dev_goals_df.iloc[1,0]\n",
    "isinstance(test_1,str)\n",
    "\n"
   ]
  },
  {
   "cell_type": "code",
   "execution_count": 25,
   "metadata": {},
   "outputs": [
    {
     "ename": "ValueError",
     "evalue": "If using all scalar values, you must pass an index",
     "output_type": "error",
     "traceback": [
      "\u001b[31m---------------------------------------------------------------------------\u001b[39m\n",
      "\u001b[31mValueError\u001b[39m                                Traceback (most recent call last)\n",
      "\u001b[36mCell\u001b[39m\u001b[36m \u001b[39m\u001b[32mIn[25]\u001b[39m\u001b[32m, line 3\u001b[39m\n",
      "\u001b[32m      1\u001b[39m \u001b[38;5;66;03m#extract sustainable development goals in a 'data-to-columns' approach\u001b[39;00m\n",
      "\u001b[32m      2\u001b[39m sus_dev_goals_dict = data_df[\u001b[33m'\u001b[39m\u001b[33msustainable_development_goals\u001b[39m\u001b[33m'\u001b[39m].to_dict()\n",
      "\u001b[32m----> \u001b[39m\u001b[32m3\u001b[39m sus_dev_goals_df = \u001b[43mpd\u001b[49m\u001b[43m.\u001b[49m\u001b[43mDataFrame\u001b[49m\u001b[43m(\u001b[49m\u001b[43msus_dev_goals_dict\u001b[49m\u001b[43m)\u001b[49m\n",
      "\u001b[32m      5\u001b[39m \u001b[38;5;66;03m#transpose\u001b[39;00m\n",
      "\u001b[32m      6\u001b[39m sus_dev_goals_df = sus_dev_goals_df.T\n",
      "\n",
      "\u001b[36mFile \u001b[39m\u001b[32m/Library/Frameworks/Python.framework/Versions/3.12/lib/python3.12/site-packages/pandas/core/frame.py:778\u001b[39m, in \u001b[36mDataFrame.__init__\u001b[39m\u001b[34m(self, data, index, columns, dtype, copy)\u001b[39m\n",
      "\u001b[32m    772\u001b[39m     mgr = \u001b[38;5;28mself\u001b[39m._init_mgr(\n",
      "\u001b[32m    773\u001b[39m         data, axes={\u001b[33m\"\u001b[39m\u001b[33mindex\u001b[39m\u001b[33m\"\u001b[39m: index, \u001b[33m\"\u001b[39m\u001b[33mcolumns\u001b[39m\u001b[33m\"\u001b[39m: columns}, dtype=dtype, copy=copy\n",
      "\u001b[32m    774\u001b[39m     )\n",
      "\u001b[32m    776\u001b[39m \u001b[38;5;28;01melif\u001b[39;00m \u001b[38;5;28misinstance\u001b[39m(data, \u001b[38;5;28mdict\u001b[39m):\n",
      "\u001b[32m    777\u001b[39m     \u001b[38;5;66;03m# GH#38939 de facto copy defaults to False only in non-dict cases\u001b[39;00m\n",
      "\u001b[32m--> \u001b[39m\u001b[32m778\u001b[39m     mgr = \u001b[43mdict_to_mgr\u001b[49m\u001b[43m(\u001b[49m\u001b[43mdata\u001b[49m\u001b[43m,\u001b[49m\u001b[43m \u001b[49m\u001b[43mindex\u001b[49m\u001b[43m,\u001b[49m\u001b[43m \u001b[49m\u001b[43mcolumns\u001b[49m\u001b[43m,\u001b[49m\u001b[43m \u001b[49m\u001b[43mdtype\u001b[49m\u001b[43m=\u001b[49m\u001b[43mdtype\u001b[49m\u001b[43m,\u001b[49m\u001b[43m \u001b[49m\u001b[43mcopy\u001b[49m\u001b[43m=\u001b[49m\u001b[43mcopy\u001b[49m\u001b[43m,\u001b[49m\u001b[43m \u001b[49m\u001b[43mtyp\u001b[49m\u001b[43m=\u001b[49m\u001b[43mmanager\u001b[49m\u001b[43m)\u001b[49m\n",
      "\u001b[32m    779\u001b[39m \u001b[38;5;28;01melif\u001b[39;00m \u001b[38;5;28misinstance\u001b[39m(data, ma.MaskedArray):\n",
      "\u001b[32m    780\u001b[39m     \u001b[38;5;28;01mfrom\u001b[39;00m\u001b[38;5;250m \u001b[39m\u001b[34;01mnumpy\u001b[39;00m\u001b[34;01m.\u001b[39;00m\u001b[34;01mma\u001b[39;00m\u001b[38;5;250m \u001b[39m\u001b[38;5;28;01mimport\u001b[39;00m mrecords\n",
      "\n",
      "\u001b[36mFile \u001b[39m\u001b[32m/Library/Frameworks/Python.framework/Versions/3.12/lib/python3.12/site-packages/pandas/core/internals/construction.py:503\u001b[39m, in \u001b[36mdict_to_mgr\u001b[39m\u001b[34m(data, index, columns, dtype, typ, copy)\u001b[39m\n",
      "\u001b[32m    499\u001b[39m     \u001b[38;5;28;01melse\u001b[39;00m:\n",
      "\u001b[32m    500\u001b[39m         \u001b[38;5;66;03m# dtype check to exclude e.g. range objects, scalars\u001b[39;00m\n",
      "\u001b[32m    501\u001b[39m         arrays = [x.copy() \u001b[38;5;28;01mif\u001b[39;00m \u001b[38;5;28mhasattr\u001b[39m(x, \u001b[33m\"\u001b[39m\u001b[33mdtype\u001b[39m\u001b[33m\"\u001b[39m) \u001b[38;5;28;01melse\u001b[39;00m x \u001b[38;5;28;01mfor\u001b[39;00m x \u001b[38;5;129;01min\u001b[39;00m arrays]\n",
      "\u001b[32m--> \u001b[39m\u001b[32m503\u001b[39m \u001b[38;5;28;01mreturn\u001b[39;00m \u001b[43marrays_to_mgr\u001b[49m\u001b[43m(\u001b[49m\u001b[43marrays\u001b[49m\u001b[43m,\u001b[49m\u001b[43m \u001b[49m\u001b[43mcolumns\u001b[49m\u001b[43m,\u001b[49m\u001b[43m \u001b[49m\u001b[43mindex\u001b[49m\u001b[43m,\u001b[49m\u001b[43m \u001b[49m\u001b[43mdtype\u001b[49m\u001b[43m=\u001b[49m\u001b[43mdtype\u001b[49m\u001b[43m,\u001b[49m\u001b[43m \u001b[49m\u001b[43mtyp\u001b[49m\u001b[43m=\u001b[49m\u001b[43mtyp\u001b[49m\u001b[43m,\u001b[49m\u001b[43m \u001b[49m\u001b[43mconsolidate\u001b[49m\u001b[43m=\u001b[49m\u001b[43mcopy\u001b[49m\u001b[43m)\u001b[49m\n",
      "\n",
      "\u001b[36mFile \u001b[39m\u001b[32m/Library/Frameworks/Python.framework/Versions/3.12/lib/python3.12/site-packages/pandas/core/internals/construction.py:114\u001b[39m, in \u001b[36marrays_to_mgr\u001b[39m\u001b[34m(arrays, columns, index, dtype, verify_integrity, typ, consolidate)\u001b[39m\n",
      "\u001b[32m    111\u001b[39m \u001b[38;5;28;01mif\u001b[39;00m verify_integrity:\n",
      "\u001b[32m    112\u001b[39m     \u001b[38;5;66;03m# figure out the index, if necessary\u001b[39;00m\n",
      "\u001b[32m    113\u001b[39m     \u001b[38;5;28;01mif\u001b[39;00m index \u001b[38;5;129;01mis\u001b[39;00m \u001b[38;5;28;01mNone\u001b[39;00m:\n",
      "\u001b[32m--> \u001b[39m\u001b[32m114\u001b[39m         index = \u001b[43m_extract_index\u001b[49m\u001b[43m(\u001b[49m\u001b[43marrays\u001b[49m\u001b[43m)\u001b[49m\n",
      "\u001b[32m    115\u001b[39m     \u001b[38;5;28;01melse\u001b[39;00m:\n",
      "\u001b[32m    116\u001b[39m         index = ensure_index(index)\n",
      "\n",
      "\u001b[36mFile \u001b[39m\u001b[32m/Library/Frameworks/Python.framework/Versions/3.12/lib/python3.12/site-packages/pandas/core/internals/construction.py:667\u001b[39m, in \u001b[36m_extract_index\u001b[39m\u001b[34m(data)\u001b[39m\n",
      "\u001b[32m    664\u001b[39m         \u001b[38;5;28;01mraise\u001b[39;00m \u001b[38;5;167;01mValueError\u001b[39;00m(\u001b[33m\"\u001b[39m\u001b[33mPer-column arrays must each be 1-dimensional\u001b[39m\u001b[33m\"\u001b[39m)\n",
      "\u001b[32m    666\u001b[39m \u001b[38;5;28;01mif\u001b[39;00m \u001b[38;5;129;01mnot\u001b[39;00m indexes \u001b[38;5;129;01mand\u001b[39;00m \u001b[38;5;129;01mnot\u001b[39;00m raw_lengths:\n",
      "\u001b[32m--> \u001b[39m\u001b[32m667\u001b[39m     \u001b[38;5;28;01mraise\u001b[39;00m \u001b[38;5;167;01mValueError\u001b[39;00m(\u001b[33m\"\u001b[39m\u001b[33mIf using all scalar values, you must pass an index\u001b[39m\u001b[33m\"\u001b[39m)\n",
      "\u001b[32m    669\u001b[39m \u001b[38;5;28;01mif\u001b[39;00m have_series:\n",
      "\u001b[32m    670\u001b[39m     index = union_indexes(indexes)\n",
      "\n",
      "\u001b[31mValueError\u001b[39m: If using all scalar values, you must pass an index"
     ]
    }
   ],
   "source": [
    "#extract sustainable development goals in a 'data-to-columns' approach\n",
    "sus_dev_goals_dict = data_df['sustainable_development_goals'].to_dict()\n",
    "sus_dev_goals_df = pd.DataFrame(sus_dev_goals_dict)\n",
    "\n",
    "#transpose\n",
    "sus_dev_goals_df = sus_dev_goals_df.T\n",
    "\n",
    "#merge\n",
    "#data_df = pd.concat([data_df, sus_dev_goals_df], axis=1)\n",
    "\n"
   ]
  }
 ],
 "metadata": {
  "language_info": {
   "name": "python"
  }
 },
 "nbformat": 4,
 "nbformat_minor": 2
}
